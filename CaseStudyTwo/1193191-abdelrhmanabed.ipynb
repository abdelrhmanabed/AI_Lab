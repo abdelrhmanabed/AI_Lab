{
 "cells": [
  {
   "cell_type": "markdown",
   "metadata": {},
   "source": [
    "# **Task1**"
   ]
  },
  {
   "cell_type": "code",
   "execution_count": 22,
   "metadata": {
    "_cell_guid": "b1076dfc-b9ad-4769-8c92-a6c4dae69d19",
    "_uuid": "8f2839f25d086af736a60e9eeb907d3b93b6e0e5",
    "execution": {
     "iopub.execute_input": "2025-01-08T19:17:15.537123Z",
     "iopub.status.busy": "2025-01-08T19:17:15.536816Z",
     "iopub.status.idle": "2025-01-08T20:35:04.587450Z",
     "shell.execute_reply": "2025-01-08T20:35:04.586596Z",
     "shell.execute_reply.started": "2025-01-08T19:17:15.537099Z"
    },
    "trusted": true
   },
   "outputs": [
    {
     "name": "stdout",
     "output_type": "stream",
     "text": [
      "Train data shape: (112799, 785)\n",
      "Test data shape: (18799, 785)\n",
      "Dropping the first column of test data.\n",
      "X_train shape: (90239, 784), X_val shape: (22560, 784), test_features shape: (18799, 784)\n",
      "Using device: cuda\n",
      "\n",
      "Training CNN model...\n",
      "Epoch 1/10, Loss: 2163.3513, Validation Accuracy: 0.7996\n",
      "Epoch 2/10, Loss: 1565.7278, Validation Accuracy: 0.8207\n",
      "Epoch 3/10, Loss: 1428.3224, Validation Accuracy: 0.8332\n",
      "Epoch 4/10, Loss: 1335.0693, Validation Accuracy: 0.8411\n",
      "Epoch 5/10, Loss: 1251.1767, Validation Accuracy: 0.8445\n",
      "Epoch 6/10, Loss: 1174.3971, Validation Accuracy: 0.8467\n",
      "Epoch 7/10, Loss: 1119.6655, Validation Accuracy: 0.8545\n",
      "Epoch 8/10, Loss: 1076.1883, Validation Accuracy: 0.8584\n",
      "Epoch 9/10, Loss: 1022.7336, Validation Accuracy: 0.8598\n",
      "Epoch 10/10, Loss: 979.1352, Validation Accuracy: 0.8603\n",
      "\n",
      "Evaluating CNN Model Performance on Validation Set:\n",
      "\n",
      "Classification Report:\n",
      "              precision    recall  f1-score   support\n",
      "\n",
      "           0       0.56      0.87      0.68       480\n",
      "           1       0.56      0.60      0.58       480\n",
      "           2       0.89      0.81      0.85       480\n",
      "           3       0.98      0.98      0.98       480\n",
      "           4       0.87      0.93      0.90       480\n",
      "           5       0.87      0.91      0.89       480\n",
      "           6       0.92      0.90      0.91       480\n",
      "           7       0.96      0.96      0.96       480\n",
      "           8       0.88      0.95      0.91       480\n",
      "           9       0.64      0.86      0.73       480\n",
      "          10       0.97      0.93      0.94       480\n",
      "          11       0.96      0.94      0.95       480\n",
      "          12       0.95      0.95      0.95       480\n",
      "          13       0.94      0.92      0.93       480\n",
      "          14       0.97      0.96      0.96       480\n",
      "          15       0.56      0.81      0.67       480\n",
      "          16       0.96      0.93      0.94       480\n",
      "          17       0.94      0.95      0.95       480\n",
      "          18       0.64      0.66      0.65       480\n",
      "          19       0.92      0.93      0.92       480\n",
      "          20       0.92      0.96      0.94       480\n",
      "          21       0.56      0.49      0.52       480\n",
      "          22       0.97      0.94      0.96       480\n",
      "          23       0.94      0.96      0.95       480\n",
      "          24       0.80      0.36      0.49       480\n",
      "          25       0.96      0.98      0.97       480\n",
      "          26       0.91      0.94      0.92       480\n",
      "          27       0.96      0.95      0.96       480\n",
      "          28       0.91      0.87      0.89       480\n",
      "          29       0.93      0.94      0.94       480\n",
      "          30       0.88      0.93      0.91       480\n",
      "          31       0.89      0.94      0.91       480\n",
      "          32       0.96      0.97      0.97       480\n",
      "          33       0.97      0.95      0.96       480\n",
      "          34       0.89      0.85      0.87       480\n",
      "          35       0.84      0.95      0.89       480\n",
      "          36       0.89      0.85      0.87       480\n",
      "          37       0.91      0.94      0.92       480\n",
      "          38       0.96      0.97      0.97       480\n",
      "          39       0.95      0.97      0.96       480\n",
      "          40       0.64      0.28      0.39       480\n",
      "          41       0.85      0.44      0.58       480\n",
      "          42       0.93      0.96      0.94       480\n",
      "          43       0.91      0.92      0.92       480\n",
      "          44       0.56      0.54      0.55       480\n",
      "          45       0.94      0.93      0.93       480\n",
      "          46       0.87      0.90      0.89       480\n",
      "\n",
      "    accuracy                           0.86     22560\n",
      "   macro avg       0.86      0.86      0.86     22560\n",
      "weighted avg       0.86      0.86      0.86     22560\n",
      "\n",
      "Accuracy: 0.8603\n",
      "\n",
      "Training Pre-Trained ResNet18 model...\n"
     ]
    },
    {
     "name": "stderr",
     "output_type": "stream",
     "text": [
      "Downloading: \"https://download.pytorch.org/models/resnet18-f37072fd.pth\" to /root/.cache/torch/hub/checkpoints/resnet18-f37072fd.pth\n",
      "100%|██████████| 44.7M/44.7M [00:00<00:00, 169MB/s]\n"
     ]
    },
    {
     "name": "stdout",
     "output_type": "stream",
     "text": [
      "Epoch 1/10, Loss: 619.8642, Validation Accuracy: 0.8793\n",
      "Epoch 2/10, Loss: 457.3806, Validation Accuracy: 0.8721\n",
      "Epoch 3/10, Loss: 406.5242, Validation Accuracy: 0.8892\n",
      "Epoch 4/10, Loss: 373.3933, Validation Accuracy: 0.8913\n",
      "Epoch 5/10, Loss: 339.8577, Validation Accuracy: 0.8833\n",
      "Epoch 6/10, Loss: 306.7999, Validation Accuracy: 0.8926\n",
      "Epoch 7/10, Loss: 275.9120, Validation Accuracy: 0.8975\n",
      "Epoch 8/10, Loss: 247.6243, Validation Accuracy: 0.8911\n",
      "Epoch 9/10, Loss: 217.5838, Validation Accuracy: 0.8949\n",
      "Epoch 10/10, Loss: 191.2893, Validation Accuracy: 0.8935\n",
      "Early stopping triggered.\n",
      "\n",
      "Evaluating Pre-Trained ResNet18 Model Performance on Validation Set:\n",
      "\n",
      "Classification Report:\n",
      "              precision    recall  f1-score   support\n",
      "\n",
      "           0       0.68      0.64      0.66       480\n",
      "           1       0.57      0.71      0.63       480\n",
      "           2       0.95      0.88      0.91       480\n",
      "           3       0.99      0.98      0.98       480\n",
      "           4       0.95      0.95      0.95       480\n",
      "           5       1.00      0.88      0.93       480\n",
      "           6       0.96      0.90      0.93       480\n",
      "           7       0.97      0.99      0.98       480\n",
      "           8       0.96      0.96      0.96       480\n",
      "           9       0.70      0.92      0.79       480\n",
      "          10       0.98      0.98      0.98       480\n",
      "          11       0.96      0.97      0.97       480\n",
      "          12       0.96      0.98      0.97       480\n",
      "          13       0.92      0.96      0.94       480\n",
      "          14       0.99      0.97      0.98       480\n",
      "          15       0.69      0.71      0.70       480\n",
      "          16       0.91      0.95      0.93       480\n",
      "          17       0.98      0.99      0.98       480\n",
      "          18       0.67      0.59      0.63       480\n",
      "          19       0.89      0.98      0.93       480\n",
      "          20       0.99      0.96      0.97       480\n",
      "          21       0.67      0.50      0.57       480\n",
      "          22       0.99      0.97      0.98       480\n",
      "          23       0.94      0.98      0.96       480\n",
      "          24       0.69      0.69      0.69       480\n",
      "          25       0.96      0.99      0.97       480\n",
      "          26       0.94      0.99      0.96       480\n",
      "          27       0.97      0.99      0.98       480\n",
      "          28       0.88      0.99      0.93       480\n",
      "          29       0.94      0.96      0.95       480\n",
      "          30       0.97      0.90      0.93       480\n",
      "          31       0.89      0.97      0.93       480\n",
      "          32       0.97      0.99      0.98       480\n",
      "          33       0.96      0.98      0.97       480\n",
      "          34       0.97      0.88      0.92       480\n",
      "          35       0.88      0.95      0.92       480\n",
      "          36       0.94      0.96      0.95       480\n",
      "          37       0.91      0.98      0.94       480\n",
      "          38       0.99      0.97      0.98       480\n",
      "          39       0.98      0.98      0.98       480\n",
      "          40       0.70      0.64      0.67       480\n",
      "          41       0.83      0.75      0.79       480\n",
      "          42       0.97      0.95      0.96       480\n",
      "          43       0.94      0.94      0.94       480\n",
      "          44       0.81      0.59      0.68       480\n",
      "          45       0.95      0.95      0.95       480\n",
      "          46       0.92      0.92      0.92       480\n",
      "\n",
      "    accuracy                           0.90     22560\n",
      "   macro avg       0.90      0.90      0.90     22560\n",
      "weighted avg       0.90      0.90      0.90     22560\n",
      "\n",
      "Accuracy: 0.8975\n",
      "\n",
      "Generating Predictions for Test Set...\n",
      "CNN Predictions saved to 'cnn_predictions.csv'.\n",
      "Pre-Trained ResNet18 Predictions saved to 'resnet18_predictions.csv'.\n",
      "\n",
      "All processes completed successfully.\n"
     ]
    }
   ],
   "source": [
    "import torch\n",
    "import torch.nn as nn\n",
    "import torch.optim as optim\n",
    "from torch.utils.data import DataLoader, Dataset\n",
    "from torchvision import transforms, models\n",
    "import pandas as pd\n",
    "import numpy as np\n",
    "from sklearn.model_selection import train_test_split\n",
    "from sklearn.preprocessing import LabelEncoder\n",
    "from sklearn.metrics import classification_report, accuracy_score\n",
    "import copy\n",
    "\n",
    "\n",
    "class CharacterDataset(Dataset):\n",
    "    def __init__(self, data, labels=None, transform=None):\n",
    "        self.data = data\n",
    "        self.labels = labels\n",
    "        self.transform = transform\n",
    "\n",
    "    def __len__(self):\n",
    "        return len(self.data)\n",
    "\n",
    "    def __getitem__(self, idx):\n",
    "        image = self.data[idx].reshape(28, 28).astype(np.uint8)\n",
    "        if self.transform:\n",
    "            image = self.transform(image)\n",
    "        if self.labels is not None:\n",
    "            return image, self.labels[idx]\n",
    "        else:\n",
    "            return image\n",
    "\n",
    "\n",
    "def load_data(train_path, test_path, mapping_path):\n",
    "    train_data = pd.read_csv(train_path)\n",
    "    test_data = pd.read_csv(test_path)\n",
    "\n",
    "    print(f\"Train data shape: {train_data.shape}\")\n",
    "    print(f\"Test data shape: {test_data.shape}\")\n",
    "\n",
    "    # Extract labels and features from training data\n",
    "    if train_data.shape[1] == 785:\n",
    "        labels = train_data.iloc[:, 0].values\n",
    "        features = train_data.iloc[:, 1:].values\n",
    "    else:\n",
    "        raise ValueError(\"Training data format is incorrect. Expected 785 columns.\")\n",
    "\n",
    "    if test_data.shape[1] == 784:\n",
    "        test_features = test_data.values\n",
    "    elif test_data.shape[1] == 785:\n",
    "        test_features = test_data.iloc[:, 1:].values\n",
    "        print(\"Dropping the first column of test data.\")\n",
    "    else:\n",
    "        raise ValueError(f\"Test data format is incorrect. Expected 784 or 785 columns, got {test_data.shape[1]}.\")\n",
    "\n",
    "    with open(mapping_path, \"r\") as f:\n",
    "        mappings = {int(line.split()[0]): chr(int(line.split()[1])) for line in f.readlines()}\n",
    "\n",
    "    le = LabelEncoder()\n",
    "    encoded_labels = le.fit_transform(labels)\n",
    "\n",
    "    X_train, X_val, y_train, y_val = train_test_split(\n",
    "        features, encoded_labels, test_size=0.2, random_state=42, stratify=encoded_labels\n",
    "    )\n",
    "\n",
    "    print(f\"X_train shape: {X_train.shape}, X_val shape: {X_val.shape}, test_features shape: {test_features.shape}\")\n",
    "    return X_train, X_val, y_train, y_val, test_features, mappings, le\n",
    "\n",
    "\n",
    "class CNNModel(nn.Module):\n",
    "    def __init__(self, num_classes):\n",
    "        super(CNNModel, self).__init__()\n",
    "        self.conv1 = nn.Conv2d(1, 32, kernel_size=3, stride=1, padding=1)\n",
    "        self.bn1 = nn.BatchNorm2d(32)\n",
    "        self.pool = nn.MaxPool2d(2, 2)\n",
    "        self.conv2 = nn.Conv2d(32, 64, kernel_size=3, stride=1, padding=1)\n",
    "        self.bn2 = nn.BatchNorm2d(64)\n",
    "        self.fc1 = nn.Linear(64 * 7 * 7, 128)\n",
    "        self.fc2 = nn.Linear(128, num_classes)\n",
    "        self.dropout = nn.Dropout(0.5)\n",
    "\n",
    "    def forward(self, x):\n",
    "        x = self.pool(torch.relu(self.bn1(self.conv1(x))))\n",
    "        x = self.pool(torch.relu(self.bn2(self.conv2(x))))\n",
    "        x = x.view(-1, 64 * 7 * 7)\n",
    "        x = torch.relu(self.fc1(x))\n",
    "        x = self.dropout(x)\n",
    "        x = self.fc2(x)\n",
    "        return x\n",
    "\n",
    "\n",
    "def train_model(model, train_loader, val_loader, criterion, optimizer, num_epochs=10, patience=3):\n",
    "    best_model_wts = copy.deepcopy(model.state_dict())\n",
    "    best_acc = 0.0\n",
    "    patience_counter = 0\n",
    "\n",
    "    for epoch in range(num_epochs):\n",
    "        model.train()\n",
    "        running_loss = 0.0\n",
    "        for images, labels in train_loader:\n",
    "            images, labels = images.to(device), labels.to(device)\n",
    "            optimizer.zero_grad()\n",
    "            outputs = model(images)\n",
    "            loss = criterion(outputs, labels)\n",
    "            loss.backward()\n",
    "            optimizer.step()\n",
    "            running_loss += loss.item()\n",
    "\n",
    "        val_correct, val_total = 0, 0\n",
    "        model.eval()\n",
    "        with torch.no_grad():\n",
    "            for images, labels in val_loader:\n",
    "                images, labels = images.to(device), labels.to(device)\n",
    "                outputs = model(images)\n",
    "                _, preds = torch.max(outputs, 1)\n",
    "                val_correct += (preds == labels).sum().item()\n",
    "                val_total += labels.size(0)\n",
    "\n",
    "        val_acc = val_correct / val_total\n",
    "        print(f\"Epoch {epoch+1}/{num_epochs}, Loss: {running_loss:.4f}, Validation Accuracy: {val_acc:.4f}\")\n",
    "\n",
    "        if val_acc > best_acc:\n",
    "            best_acc = val_acc\n",
    "            best_model_wts = copy.deepcopy(model.state_dict())\n",
    "            patience_counter = 0\n",
    "        else:\n",
    "            patience_counter += 1\n",
    "            if patience_counter >= patience:\n",
    "                print(\"Early stopping triggered.\")\n",
    "                break\n",
    "\n",
    "    model.load_state_dict(best_model_wts)\n",
    "    return model\n",
    "\n",
    "\n",
    "def evaluate_model(model, data_loader, le, has_labels=True):\n",
    "    model.eval()\n",
    "    all_labels = []\n",
    "    all_preds = []\n",
    "    with torch.no_grad():\n",
    "        for batch in data_loader:\n",
    "            if has_labels:\n",
    "                images, labels = batch\n",
    "                labels = labels.to(device)\n",
    "                all_labels.extend(labels.cpu().numpy())\n",
    "            else:\n",
    "                images = batch\n",
    "            images = images.to(device)\n",
    "            outputs = model(images)\n",
    "            _, preds = torch.max(outputs, 1)\n",
    "            all_preds.extend(preds.cpu().numpy())\n",
    "\n",
    "    if has_labels:\n",
    "        all_labels = np.array(all_labels)\n",
    "        all_preds = np.array(all_preds)\n",
    "\n",
    "        # Convert numerical labels to strings for the classification report\n",
    "        string_classes = list(map(str, le.classes_))\n",
    "        accuracy = accuracy_score(all_labels, all_preds)\n",
    "        report = classification_report(all_labels, all_preds, target_names=string_classes, zero_division=1)\n",
    "\n",
    "        print(\"\\nClassification Report:\")\n",
    "        print(report)\n",
    "        print(f\"Accuracy: {accuracy:.4f}\")\n",
    "\n",
    "        return accuracy\n",
    "    else:\n",
    "        return np.array(all_preds)\n",
    "\n",
    "\n",
    "def generate_predictions(model, test_loader):\n",
    "    model.eval()\n",
    "    all_preds = []\n",
    "    with torch.no_grad():\n",
    "        for images in test_loader:\n",
    "            images = images.to(device)\n",
    "            outputs = model(images)\n",
    "            _, preds = torch.max(outputs, 1)\n",
    "            all_preds.extend(preds.cpu().numpy())\n",
    "    return np.array(all_preds)\n",
    "\n",
    "\n",
    "if __name__ == \"__main__\":\n",
    "    train_path = \"../input/datasetcasestudy2/characters.csv\"\n",
    "    test_path = \"../input/datasetcasestudy2/characters-test.csv\"\n",
    "    mapping_path = \"../input/datasetcasestudy2/mapping.txt\"\n",
    "\n",
    "    X_train, X_val, y_train, y_val, test_data, mappings, le = load_data(train_path, test_path, mapping_path)\n",
    "\n",
    "    transform_cnn = transforms.Compose([\n",
    "        transforms.ToPILImage(),\n",
    "        transforms.ToTensor(),\n",
    "        transforms.Normalize((0.5,), (0.5,))\n",
    "    ])\n",
    "\n",
    "    transform_resnet = transforms.Compose([\n",
    "        transforms.ToPILImage(),\n",
    "        transforms.Resize((224, 224)),\n",
    "        transforms.Grayscale(num_output_channels=3),\n",
    "        transforms.ToTensor(),\n",
    "        transforms.Normalize((0.5, 0.5, 0.5), (0.5, 0.5, 0.5))\n",
    "    ])\n",
    "\n",
    "    train_dataset_cnn = CharacterDataset(X_train, y_train, transform=transform_cnn)\n",
    "    val_dataset_cnn = CharacterDataset(X_val, y_val, transform=transform_cnn)\n",
    "    test_dataset_cnn = CharacterDataset(test_data, labels=None, transform=transform_cnn)\n",
    "\n",
    "    train_loader_cnn = DataLoader(train_dataset_cnn, batch_size=64, shuffle=True)\n",
    "    val_loader_cnn = DataLoader(val_dataset_cnn, batch_size=64, shuffle=False)\n",
    "    test_loader_cnn = DataLoader(test_dataset_cnn, batch_size=64, shuffle=False)\n",
    "\n",
    "    device = torch.device(\"cuda\" if torch.cuda.is_available() else \"cpu\")\n",
    "    print(f\"Using device: {device}\")\n",
    "\n",
    "    print(\"\\nTraining CNN model...\")\n",
    "    cnn_model = CNNModel(num_classes=len(le.classes_)).to(device)\n",
    "    cnn_criterion = nn.CrossEntropyLoss()\n",
    "    cnn_optimizer = optim.Adam(cnn_model.parameters(), lr=0.001)\n",
    "\n",
    "    cnn_model = train_model(cnn_model, train_loader_cnn, val_loader_cnn, cnn_criterion, cnn_optimizer, num_epochs=10, patience=3)\n",
    "\n",
    "    print(\"\\nEvaluating CNN Model Performance on Validation Set:\")\n",
    "    cnn_val_accuracy = evaluate_model(cnn_model, val_loader_cnn, le, has_labels=True)\n",
    "\n",
    "    print(\"\\nTraining Pre-Trained ResNet18 model...\")\n",
    "    pretrained_model = models.resnet18(weights=models.ResNet18_Weights.DEFAULT)\n",
    "    pretrained_model.fc = nn.Linear(pretrained_model.fc.in_features, len(le.classes_))  # Adjust the final layer\n",
    "    pretrained_model = pretrained_model.to(device)\n",
    "\n",
    "    train_loader_resnet = DataLoader(CharacterDataset(X_train, y_train, transform=transform_resnet), batch_size=64, shuffle=True)\n",
    "    val_loader_resnet = DataLoader(CharacterDataset(X_val, y_val, transform=transform_resnet), batch_size=64, shuffle=False)\n",
    "    test_loader_resnet = DataLoader(CharacterDataset(test_data, labels=None, transform=transform_resnet), batch_size=64, shuffle=False)\n",
    "\n",
    "    pretrained_criterion = nn.CrossEntropyLoss()\n",
    "    pretrained_optimizer = optim.Adam(pretrained_model.parameters(), lr=0.001)\n",
    "\n",
    "    pretrained_model = train_model(pretrained_model, train_loader_resnet, val_loader_resnet, pretrained_criterion, pretrained_optimizer, num_epochs=10, patience=3)\n",
    "\n",
    "    print(\"\\nEvaluating Pre-Trained ResNet18 Model Performance on Validation Set:\")\n",
    "    pretrained_val_accuracy = evaluate_model(pretrained_model, val_loader_resnet, le, has_labels=True)\n",
    "\n",
    "    print(\"\\nGenerating Predictions for Test Set...\")\n",
    "    cnn_test_predictions = generate_predictions(cnn_model, test_loader_cnn)\n",
    "    pretrained_test_predictions = generate_predictions(pretrained_model, test_loader_resnet)\n",
    "\n",
    "    cnn_pred_labels = le.inverse_transform(cnn_test_predictions)\n",
    "    pretrained_pred_labels = le.inverse_transform(pretrained_test_predictions)\n",
    "\n",
    "    submission_cnn = pd.DataFrame({\n",
    "        'Id': range(len(cnn_pred_labels)),\n",
    "        'Predicted': cnn_pred_labels\n",
    "    })\n",
    "    submission_cnn.to_csv('cnn_predictions.csv', index=False)\n",
    "    print(\"CNN Predictions saved to 'cnn_predictions.csv'.\")\n",
    "\n",
    "    submission_resnet = pd.DataFrame({\n",
    "        'Id': range(len(pretrained_pred_labels)),\n",
    "        'Predicted': pretrained_pred_labels\n",
    "    })\n",
    "    submission_resnet.to_csv('resnet18_predictions.csv', index=False)\n",
    "    print(\"Pre-Trained ResNet18 Predictions saved to 'resnet18_predictions.csv'.\")\n",
    "\n",
    "    print(\"\\nAll processes completed successfully.\")\n"
   ]
  },
  {
   "cell_type": "markdown",
   "metadata": {},
   "source": [
    "# **Taks 2**"
   ]
  },
  {
   "cell_type": "code",
   "execution_count": 25,
   "metadata": {
    "execution": {
     "iopub.execute_input": "2025-01-08T21:25:46.786141Z",
     "iopub.status.busy": "2025-01-08T21:25:46.785800Z",
     "iopub.status.idle": "2025-01-08T21:25:57.868235Z",
     "shell.execute_reply": "2025-01-08T21:25:57.867455Z",
     "shell.execute_reply.started": "2025-01-08T21:25:46.786113Z"
    },
    "trusted": true
   },
   "outputs": [
    {
     "name": "stdout",
     "output_type": "stream",
     "text": [
      "Number of training samples: 830\n",
      "Number of testing samples: 243\n",
      "\n",
      "--- Baseline LSTM Model (Random Embeddings) ---\n"
     ]
    },
    {
     "name": "stderr",
     "output_type": "stream",
     "text": [
      "Epoch 1/15: 100%|██████████| 26/26 [00:00<00:00, 141.91it/s]\n"
     ]
    },
    {
     "name": "stdout",
     "output_type": "stream",
     "text": [
      "Epoch [1/15], Loss: 0.6940\n"
     ]
    },
    {
     "name": "stderr",
     "output_type": "stream",
     "text": [
      "Epoch 2/15: 100%|██████████| 26/26 [00:00<00:00, 206.00it/s]\n"
     ]
    },
    {
     "name": "stdout",
     "output_type": "stream",
     "text": [
      "Epoch [2/15], Loss: 0.6929\n"
     ]
    },
    {
     "name": "stderr",
     "output_type": "stream",
     "text": [
      "Epoch 3/15: 100%|██████████| 26/26 [00:00<00:00, 241.38it/s]\n"
     ]
    },
    {
     "name": "stdout",
     "output_type": "stream",
     "text": [
      "Epoch [3/15], Loss: 0.6812\n"
     ]
    },
    {
     "name": "stderr",
     "output_type": "stream",
     "text": [
      "Epoch 4/15: 100%|██████████| 26/26 [00:00<00:00, 248.51it/s]\n"
     ]
    },
    {
     "name": "stdout",
     "output_type": "stream",
     "text": [
      "Epoch [4/15], Loss: 0.6243\n"
     ]
    },
    {
     "name": "stderr",
     "output_type": "stream",
     "text": [
      "Epoch 5/15: 100%|██████████| 26/26 [00:00<00:00, 252.83it/s]\n"
     ]
    },
    {
     "name": "stdout",
     "output_type": "stream",
     "text": [
      "Epoch [5/15], Loss: 0.5770\n"
     ]
    },
    {
     "name": "stderr",
     "output_type": "stream",
     "text": [
      "Epoch 6/15: 100%|██████████| 26/26 [00:00<00:00, 243.85it/s]\n"
     ]
    },
    {
     "name": "stdout",
     "output_type": "stream",
     "text": [
      "Epoch [6/15], Loss: 0.4845\n"
     ]
    },
    {
     "name": "stderr",
     "output_type": "stream",
     "text": [
      "Epoch 7/15: 100%|██████████| 26/26 [00:00<00:00, 243.22it/s]\n"
     ]
    },
    {
     "name": "stdout",
     "output_type": "stream",
     "text": [
      "Epoch [7/15], Loss: 0.4562\n"
     ]
    },
    {
     "name": "stderr",
     "output_type": "stream",
     "text": [
      "Epoch 8/15: 100%|██████████| 26/26 [00:00<00:00, 249.04it/s]\n"
     ]
    },
    {
     "name": "stdout",
     "output_type": "stream",
     "text": [
      "Epoch [8/15], Loss: 0.4333\n"
     ]
    },
    {
     "name": "stderr",
     "output_type": "stream",
     "text": [
      "Epoch 9/15: 100%|██████████| 26/26 [00:00<00:00, 250.35it/s]\n"
     ]
    },
    {
     "name": "stdout",
     "output_type": "stream",
     "text": [
      "Epoch [9/15], Loss: 0.3291\n"
     ]
    },
    {
     "name": "stderr",
     "output_type": "stream",
     "text": [
      "Epoch 10/15: 100%|██████████| 26/26 [00:00<00:00, 249.75it/s]\n"
     ]
    },
    {
     "name": "stdout",
     "output_type": "stream",
     "text": [
      "Epoch [10/15], Loss: 0.2999\n"
     ]
    },
    {
     "name": "stderr",
     "output_type": "stream",
     "text": [
      "Epoch 11/15: 100%|██████████| 26/26 [00:00<00:00, 244.53it/s]\n"
     ]
    },
    {
     "name": "stdout",
     "output_type": "stream",
     "text": [
      "Epoch [11/15], Loss: 0.2814\n"
     ]
    },
    {
     "name": "stderr",
     "output_type": "stream",
     "text": [
      "Epoch 12/15: 100%|██████████| 26/26 [00:00<00:00, 237.01it/s]\n"
     ]
    },
    {
     "name": "stdout",
     "output_type": "stream",
     "text": [
      "Epoch [12/15], Loss: 0.2554\n"
     ]
    },
    {
     "name": "stderr",
     "output_type": "stream",
     "text": [
      "Epoch 13/15: 100%|██████████| 26/26 [00:00<00:00, 249.48it/s]\n"
     ]
    },
    {
     "name": "stdout",
     "output_type": "stream",
     "text": [
      "Epoch [13/15], Loss: 0.4620\n"
     ]
    },
    {
     "name": "stderr",
     "output_type": "stream",
     "text": [
      "Epoch 14/15: 100%|██████████| 26/26 [00:00<00:00, 250.78it/s]\n"
     ]
    },
    {
     "name": "stdout",
     "output_type": "stream",
     "text": [
      "Epoch [14/15], Loss: 0.4279\n"
     ]
    },
    {
     "name": "stderr",
     "output_type": "stream",
     "text": [
      "Epoch 15/15: 100%|██████████| 26/26 [00:00<00:00, 251.34it/s]\n"
     ]
    },
    {
     "name": "stdout",
     "output_type": "stream",
     "text": [
      "Epoch [15/15], Loss: 0.3235\n",
      "\n",
      "--- Evaluating Baseline LSTM Model ---\n",
      "Baseline LSTM Model Test Accuracy: 53.09%\n",
      "Classification Report:\n",
      "              precision    recall  f1-score   support\n",
      "\n",
      "         OBJ       0.50      0.89      0.64       116\n",
      "        SUBJ       0.67      0.20      0.31       127\n",
      "\n",
      "    accuracy                           0.53       243\n",
      "   macro avg       0.59      0.55      0.48       243\n",
      "weighted avg       0.59      0.53      0.47       243\n",
      "\n",
      "Confusion Matrix:\n",
      "[[103  13]\n",
      " [101  26]]\n",
      "\n",
      "--- Transfer Learning LSTM Model (Using GloVe) ---\n",
      "Loading GloVe embeddings...\n"
     ]
    },
    {
     "name": "stderr",
     "output_type": "stream",
     "text": [
      "Epoch 1/15: 100%|██████████| 26/26 [00:00<00:00, 151.50it/s]\n"
     ]
    },
    {
     "name": "stdout",
     "output_type": "stream",
     "text": [
      "Epoch [1/15], Loss: 0.6937\n"
     ]
    },
    {
     "name": "stderr",
     "output_type": "stream",
     "text": [
      "Epoch 2/15: 100%|██████████| 26/26 [00:00<00:00, 189.74it/s]\n"
     ]
    },
    {
     "name": "stdout",
     "output_type": "stream",
     "text": [
      "Epoch [2/15], Loss: 0.6584\n"
     ]
    },
    {
     "name": "stderr",
     "output_type": "stream",
     "text": [
      "Epoch 3/15: 100%|██████████| 26/26 [00:00<00:00, 234.90it/s]\n"
     ]
    },
    {
     "name": "stdout",
     "output_type": "stream",
     "text": [
      "Epoch [3/15], Loss: 0.5964\n"
     ]
    },
    {
     "name": "stderr",
     "output_type": "stream",
     "text": [
      "Epoch 4/15: 100%|██████████| 26/26 [00:00<00:00, 239.25it/s]\n"
     ]
    },
    {
     "name": "stdout",
     "output_type": "stream",
     "text": [
      "Epoch [4/15], Loss: 0.5522\n"
     ]
    },
    {
     "name": "stderr",
     "output_type": "stream",
     "text": [
      "Epoch 5/15: 100%|██████████| 26/26 [00:00<00:00, 239.76it/s]\n"
     ]
    },
    {
     "name": "stdout",
     "output_type": "stream",
     "text": [
      "Epoch [5/15], Loss: 0.4916\n"
     ]
    },
    {
     "name": "stderr",
     "output_type": "stream",
     "text": [
      "Epoch 6/15: 100%|██████████| 26/26 [00:00<00:00, 251.27it/s]\n"
     ]
    },
    {
     "name": "stdout",
     "output_type": "stream",
     "text": [
      "Epoch [6/15], Loss: 0.4942\n"
     ]
    },
    {
     "name": "stderr",
     "output_type": "stream",
     "text": [
      "Epoch 7/15: 100%|██████████| 26/26 [00:00<00:00, 245.45it/s]\n"
     ]
    },
    {
     "name": "stdout",
     "output_type": "stream",
     "text": [
      "Epoch [7/15], Loss: 0.3353\n"
     ]
    },
    {
     "name": "stderr",
     "output_type": "stream",
     "text": [
      "Epoch 8/15: 100%|██████████| 26/26 [00:00<00:00, 236.79it/s]\n"
     ]
    },
    {
     "name": "stdout",
     "output_type": "stream",
     "text": [
      "Epoch [8/15], Loss: 0.2631\n"
     ]
    },
    {
     "name": "stderr",
     "output_type": "stream",
     "text": [
      "Epoch 9/15: 100%|██████████| 26/26 [00:00<00:00, 239.30it/s]\n"
     ]
    },
    {
     "name": "stdout",
     "output_type": "stream",
     "text": [
      "Epoch [9/15], Loss: 0.1864\n"
     ]
    },
    {
     "name": "stderr",
     "output_type": "stream",
     "text": [
      "Epoch 10/15: 100%|██████████| 26/26 [00:00<00:00, 234.52it/s]\n"
     ]
    },
    {
     "name": "stdout",
     "output_type": "stream",
     "text": [
      "Epoch [10/15], Loss: 0.0867\n"
     ]
    },
    {
     "name": "stderr",
     "output_type": "stream",
     "text": [
      "Epoch 11/15: 100%|██████████| 26/26 [00:00<00:00, 237.56it/s]\n"
     ]
    },
    {
     "name": "stdout",
     "output_type": "stream",
     "text": [
      "Epoch [11/15], Loss: 0.0696\n"
     ]
    },
    {
     "name": "stderr",
     "output_type": "stream",
     "text": [
      "Epoch 12/15: 100%|██████████| 26/26 [00:00<00:00, 228.14it/s]\n"
     ]
    },
    {
     "name": "stdout",
     "output_type": "stream",
     "text": [
      "Epoch [12/15], Loss: 0.0458\n"
     ]
    },
    {
     "name": "stderr",
     "output_type": "stream",
     "text": [
      "Epoch 13/15: 100%|██████████| 26/26 [00:00<00:00, 245.48it/s]\n"
     ]
    },
    {
     "name": "stdout",
     "output_type": "stream",
     "text": [
      "Epoch [13/15], Loss: 0.0320\n"
     ]
    },
    {
     "name": "stderr",
     "output_type": "stream",
     "text": [
      "Epoch 14/15: 100%|██████████| 26/26 [00:00<00:00, 244.10it/s]\n"
     ]
    },
    {
     "name": "stdout",
     "output_type": "stream",
     "text": [
      "Epoch [14/15], Loss: 0.0103\n"
     ]
    },
    {
     "name": "stderr",
     "output_type": "stream",
     "text": [
      "Epoch 15/15: 100%|██████████| 26/26 [00:00<00:00, 227.65it/s]\n"
     ]
    },
    {
     "name": "stdout",
     "output_type": "stream",
     "text": [
      "Epoch [15/15], Loss: 0.0044\n",
      "\n",
      "--- Evaluating Transfer Learning LSTM Model ---\n",
      "Transfer Learning LSTM Model Test Accuracy: 55.97%\n",
      "Classification Report:\n",
      "              precision    recall  f1-score   support\n",
      "\n",
      "         OBJ       0.52      0.91      0.66       116\n",
      "        SUBJ       0.75      0.24      0.36       127\n",
      "\n",
      "    accuracy                           0.56       243\n",
      "   macro avg       0.64      0.58      0.51       243\n",
      "weighted avg       0.64      0.56      0.51       243\n",
      "\n",
      "Confusion Matrix:\n",
      "[[106  10]\n",
      " [ 97  30]]\n"
     ]
    },
    {
     "data": {
      "image/png": "[encoded data removed]",
      "text/plain": [
       "<Figure size 1000x600 with 1 Axes>"
      ]
     },
     "metadata": {},
     "output_type": "display_data"
    }
   ],
   "source": [
    "import pandas as pd\n",
    "import torch\n",
    "import torch.nn as nn\n",
    "import torch.optim as optim\n",
    "from torch.utils.data import Dataset, DataLoader\n",
    "from sklearn.preprocessing import LabelEncoder\n",
    "from sklearn.metrics import classification_report, confusion_matrix, accuracy_score\n",
    "import numpy as np\n",
    "import matplotlib.pyplot as plt\n",
    "from tqdm import tqdm\n",
    "from collections import Counter\n",
    "\n",
    "train_file_path = '../input/datasetcasestudy2/train.tsv'\n",
    "test_file_path = '../input/datasetcasestudy2/test.tsv'\n",
    "\n",
    "train_data = pd.read_csv(train_file_path, sep='\\t')\n",
    "test_data = pd.read_csv(test_file_path, sep='\\t')\n",
    "\n",
    "print(f\"Number of training samples: {len(train_data)}\")\n",
    "print(f\"Number of testing samples: {len(test_data)}\")\n",
    "\n",
    "max_vocab_size = 10000\n",
    "max_length = 100\n",
    "device = torch.device(\"cuda\" if torch.cuda.is_available() else \"cpu\")\n",
    "\n",
    "def tokenize(text):\n",
    "    return text.split()\n",
    "\n",
    "vocab_counter = Counter()\n",
    "for sentence in train_data['sentence']:\n",
    "    vocab_counter.update(tokenize(sentence))\n",
    "\n",
    "vocab = {word: idx + 1 for idx, (word, _) in enumerate(vocab_counter.most_common(max_vocab_size - 1))}\n",
    "vocab[\"<PAD>\"] = 0\n",
    "vocab[\"<OOV>\"] = len(vocab)\n",
    "\n",
    "def encode_sentence(sentence, vocab, max_length):\n",
    "    tokens = [vocab.get(word, vocab[\"<OOV>\"]) for word in tokenize(sentence)]\n",
    "    if len(tokens) < max_length:\n",
    "        tokens += [vocab[\"<PAD>\"]] * (max_length - len(tokens))\n",
    "    return tokens[:max_length]\n",
    "\n",
    "X_train = np.array([encode_sentence(sentence, vocab, max_length) for sentence in train_data['sentence']])\n",
    "X_test = np.array([encode_sentence(sentence, vocab, max_length) for sentence in test_data['sentence']])\n",
    "\n",
    "label_encoder = LabelEncoder()\n",
    "y_train = label_encoder.fit_transform(train_data['label'])\n",
    "y_test = label_encoder.transform(test_data['label'])\n",
    "num_classes = len(label_encoder.classes_)\n",
    "\n",
    "class TextDataset(Dataset):\n",
    "    def __init__(self, sentences, labels):\n",
    "        self.sentences = torch.tensor(sentences, dtype=torch.long)\n",
    "        self.labels = torch.tensor(labels, dtype=torch.long)\n",
    "\n",
    "    def __len__(self):\n",
    "        return len(self.sentences)\n",
    "\n",
    "    def __getitem__(self, idx):\n",
    "        return self.sentences[idx], self.labels[idx]\n",
    "\n",
    "train_dataset = TextDataset(X_train, y_train)\n",
    "test_dataset = TextDataset(X_test, y_test)\n",
    "\n",
    "train_loader = DataLoader(train_dataset, batch_size=32, shuffle=True)\n",
    "test_loader = DataLoader(test_dataset, batch_size=32, shuffle=False)\n",
    "\n",
    "class LSTMClassifier(nn.Module):\n",
    "    def __init__(self, vocab_size, embedding_dim, hidden_dim, num_classes, embedding_matrix=None):\n",
    "        super(LSTMClassifier, self).__init__()\n",
    "        if embedding_matrix is not None:\n",
    "            self.embedding = nn.Embedding.from_pretrained(embedding_matrix, freeze=False)\n",
    "        else:\n",
    "            self.embedding = nn.Embedding(vocab_size, embedding_dim)\n",
    "        self.lstm = nn.LSTM(embedding_dim, hidden_dim, num_layers=2, batch_first=True, dropout=0.2)\n",
    "        self.fc = nn.Linear(hidden_dim, num_classes)\n",
    "\n",
    "    def forward(self, x):\n",
    "        embeds = self.embedding(x)\n",
    "        lstm_out, _ = self.lstm(embeds)\n",
    "        hidden = lstm_out.mean(dim=1)\n",
    "        out = self.fc(hidden)\n",
    "        return out\n",
    "\n",
    "def train_model(model, train_loader, num_epochs=10, lr=0.001):\n",
    "    class_weights = torch.tensor([len(y_train) / Counter(y_train)[i] for i in range(num_classes)], dtype=torch.float).to(device)\n",
    "    criterion = nn.CrossEntropyLoss(weight=class_weights)\n",
    "    optimizer = optim.Adam(model.parameters(), lr=lr)\n",
    "    train_losses = []\n",
    "\n",
    "    model.train()\n",
    "    for epoch in range(num_epochs):\n",
    "        total_loss = 0\n",
    "        for sentences, labels in tqdm(train_loader, desc=f\"Epoch {epoch + 1}/{num_epochs}\"):\n",
    "            sentences, labels = sentences.to(device), labels.to(device)\n",
    "            optimizer.zero_grad()\n",
    "            outputs = model(sentences)\n",
    "            loss = criterion(outputs, labels)\n",
    "            loss.backward()\n",
    "            optimizer.step()\n",
    "            total_loss += loss.item()\n",
    "        avg_loss = total_loss / len(train_loader)\n",
    "        train_losses.append(avg_loss)\n",
    "        print(f\"Epoch [{epoch + 1}/{num_epochs}], Loss: {avg_loss:.4f}\")\n",
    "    return train_losses\n",
    "\n",
    "def evaluate_model(model, data_loader):\n",
    "    model.eval()\n",
    "    y_true = []\n",
    "    y_pred = []\n",
    "\n",
    "    with torch.no_grad():\n",
    "        for sentences, labels in data_loader:\n",
    "            sentences, labels = sentences.to(device), labels.to(device)\n",
    "            outputs = model(sentences)\n",
    "            _, predicted = torch.max(outputs, 1)\n",
    "            y_true.extend(labels.cpu().numpy())\n",
    "            y_pred.extend(predicted.cpu().numpy())\n",
    "\n",
    "    return y_true, y_pred\n",
    "\n",
    "print(\"\\n--- Baseline LSTM Model (Random Embeddings) ---\")\n",
    "baseline_model = LSTMClassifier(vocab_size=len(vocab), embedding_dim=100, hidden_dim=128, num_classes=num_classes).to(device)\n",
    "baseline_train_losses = train_model(baseline_model, train_loader, num_epochs=15, lr=0.001)\n",
    "\n",
    "print(\"\\n--- Evaluating Baseline LSTM Model ---\")\n",
    "y_true_baseline, y_pred_baseline = evaluate_model(baseline_model, test_loader)\n",
    "accuracy_baseline = accuracy_score(y_true_baseline, y_pred_baseline)\n",
    "print(f\"Baseline LSTM Model Test Accuracy: {accuracy_baseline * 100:.2f}%\")\n",
    "print(\"Classification Report:\")\n",
    "print(classification_report(y_true_baseline, y_pred_baseline, target_names=label_encoder.classes_))\n",
    "print(\"Confusion Matrix:\")\n",
    "print(confusion_matrix(y_true_baseline, y_pred_baseline))\n",
    "\n",
    "print(\"\\n--- Transfer Learning LSTM Model (Using GloVe) ---\")\n",
    "print(\"Loading GloVe embeddings...\")\n",
    "glove_file_path = '../input/datasetcasestudy2/glove.6B.100d.txt'\n",
    "embedding_dim = 100\n",
    "embedding_matrix = np.zeros((len(vocab), embedding_dim))\n",
    "\n",
    "with open(glove_file_path, 'r', encoding='utf-8') as f:\n",
    "    for line in f:\n",
    "        values = line.split()\n",
    "        word = values[0]\n",
    "        vector = np.asarray(values[1:], dtype='float32')\n",
    "        idx = vocab.get(word)\n",
    "        if idx is not None:\n",
    "            embedding_matrix[idx] = vector\n",
    "\n",
    "embedding_matrix = torch.tensor(embedding_matrix, dtype=torch.float)\n",
    "\n",
    "transfer_model = LSTMClassifier(vocab_size=len(vocab), embedding_dim=embedding_dim, hidden_dim=128, num_classes=num_classes, embedding_matrix=embedding_matrix).to(device)\n",
    "transfer_train_losses = train_model(transfer_model, train_loader, num_epochs=15, lr=0.001)\n",
    "\n",
    "print(\"\\n--- Evaluating Transfer Learning LSTM Model ---\")\n",
    "y_true_transfer, y_pred_transfer = evaluate_model(transfer_model, test_loader)\n",
    "accuracy_transfer = accuracy_score(y_true_transfer, y_pred_transfer)\n",
    "print(f\"Transfer Learning LSTM Model Test Accuracy: {accuracy_transfer * 100:.2f}%\")\n",
    "print(\"Classification Report:\")\n",
    "print(classification_report(y_true_transfer, y_pred_transfer, target_names=label_encoder.classes_))\n",
    "print(\"Confusion Matrix:\")\n",
    "print(confusion_matrix(y_true_transfer, y_pred_transfer))\n",
    "\n",
    "plt.figure(figsize=(10, 6))\n",
    "plt.plot(baseline_train_losses, label='Baseline LSTM Loss')\n",
    "plt.plot(transfer_train_losses, label='Transfer Learning LSTM Loss')\n",
    "plt.title('Training Loss Comparison')\n",
    "plt.xlabel('Epochs')\n",
    "plt.ylabel('Loss')\n",
    "plt.legend()\n",
    "plt.show()\n"
   ]
  },
  {
   "cell_type": "markdown",
   "metadata": {},
   "source": [
    "# **Hyperparameter Tuning**"
   ]
  },
  {
   "cell_type": "code",
   "execution_count": 2,
   "metadata": {
    "execution": {
     "iopub.execute_input": "2025-01-08T17:03:52.558502Z",
     "iopub.status.busy": "2025-01-08T17:03:52.558223Z",
     "iopub.status.idle": "2025-01-08T17:04:20.385454Z",
     "shell.execute_reply": "2025-01-08T17:04:20.384476Z",
     "shell.execute_reply.started": "2025-01-08T17:03:52.558482Z"
    },
    "trusted": true
   },
   "outputs": [
    {
     "name": "stdout",
     "output_type": "stream",
     "text": [
      "Using device: cpu\n"
     ]
    },
    {
     "name": "stderr",
     "output_type": "stream",
     "text": [
      "/usr/lib/python3.10/subprocess.py:1796: RuntimeWarning: os.fork() was called. os.fork() is incompatible with multithreaded code, and JAX is multithreaded, so this will likely lead to a deadlock.\n",
      "  self.pid = _posixsubprocess.fork_exec(\n",
      "/usr/lib/python3.10/subprocess.py:1796: RuntimeWarning: os.fork() was called. os.fork() is incompatible with multithreaded code, and JAX is multithreaded, so this will likely lead to a deadlock.\n",
      "  self.pid = _posixsubprocess.fork_exec(\n",
      "2025-01-08 17:04:00,367\tINFO worker.py:1821 -- Started a local Ray instance.\n"
     ]
    },
    {
     "name": "stdout",
     "output_type": "stream",
     "text": [
      "Number of training samples: 830\n",
      "Number of testing samples: 243\n"
     ]
    },
    {
     "name": "stderr",
     "output_type": "stream",
     "text": [
      "2025-01-08 17:04:09,315\tINFO tune.py:616 -- [output] This uses the legacy output and progress reporter, as Jupyter notebooks are not supported by the new engine, yet. For more information, please see https://github.com/ray-project/ray/issues/36949\n",
      "2025-01-08 17:04:09,390\tINFO tensorboardx.py:193 -- pip install \"ray[tune]\" to see TensorBoard files.\n",
      "2025-01-08 17:04:09,391\tWARNING callback.py:136 -- The TensorboardX logger cannot be instantiated because either TensorboardX or one of it's dependencies is not installed. Please make sure you have the latest version of TensorboardX installed: `pip install -U tensorboardx`\n"
     ]
    },
    {
     "data": {
      "text/html": [],
      "text/plain": [
       "<IPython.core.display.HTML object>"
      ]
     },
     "metadata": {},
     "output_type": "display_data"
    },
    {
     "name": "stderr",
     "output_type": "stream",
     "text": [
      ":job_id:01000000\n",
      ":task_name:bundle_reservation_check_func\n"
     ]
    },
    {
     "name": "stdout",
     "output_type": "stream",
     "text": [
      ":job_id:01000000\n",
      ":task_name:bundle_reservation_check_func\n",
      ":actor_name:ImplicitFunc\n",
      ":actor_name:train_model\n"
     ]
    },
    {
     "name": "stderr",
     "output_type": "stream",
     "text": [
      ":actor_name:ImplicitFunc\n",
      ":actor_name:train_model\n"
     ]
    },
    {
     "name": "stdout",
     "output_type": "stream",
     "text": [
      "<IPython.core.display.HTML object>\n",
      "<IPython.core.display.HTML object>\n",
      "<IPython.core.display.HTML object>\n",
      ":task_name:bundle_reservation_check_func\n",
      ":actor_name:ImplicitFunc\n",
      ":actor_name:train_model\n"
     ]
    },
    {
     "name": "stderr",
     "output_type": "stream",
     "text": [
      ":task_name:bundle_reservation_check_func\n",
      ":actor_name:ImplicitFunc\n",
      ":actor_name:train_model\n"
     ]
    },
    {
     "name": "stdout",
     "output_type": "stream",
     "text": [
      "<IPython.core.display.HTML object>\n",
      "<IPython.core.display.HTML object>\n"
     ]
    },
    {
     "name": "stderr",
     "output_type": "stream",
     "text": [
      "2025-01-08 17:04:18,378\tINFO tune.py:1009 -- Wrote the latest version of all result files and experiment state to '/root/ray_results/train_model_2025-01-08_17-04-09' in 0.0059s.\n",
      "2025-01-08 17:04:18,382\tINFO tune.py:1041 -- Total run time: 9.07 seconds (8.95 seconds for the tuning loop).\n"
     ]
    },
    {
     "name": "stdout",
     "output_type": "stream",
     "text": [
      "<IPython.core.display.HTML object>\n",
      "<IPython.core.display.HTML object>\n",
      "\n",
      "Best Hyperparameters: {'hidden_dim': 32, 'lr': 0.0002691436008880672, 'trainable_embedding': True, 'epochs': 5}\n",
      "\n",
      "Test Accuracy with best hyperparams: 0.4774\n"
     ]
    }
   ],
   "source": [
    "import os\n",
    "import pandas as pd\n",
    "import torch\n",
    "import torch.nn as nn\n",
    "import torch.optim as optim\n",
    "from torch.utils.data import Dataset, DataLoader\n",
    "from sklearn.preprocessing import LabelEncoder\n",
    "from sklearn.metrics import classification_report, confusion_matrix, accuracy_score\n",
    "import numpy as np\n",
    "import matplotlib.pyplot as plt\n",
    "from tqdm import tqdm\n",
    "from collections import Counter\n",
    "\n",
    "import ray\n",
    "from ray import tune\n",
    "from ray.tune.search.hyperopt import HyperOptSearch\n",
    "\n",
    "from ray.air import session\n",
    "\n",
    "os.environ[\"CUDA_VISIBLE_DEVICES\"] = \"-1\"  \n",
    "device = torch.device(\"cpu\")\n",
    "print(f\"Using device: {device}\")\n",
    "\n",
    "ray.init(local_mode=True, ignore_reinit_error=True)\n",
    "\n",
    "train_file_path = '../input/datasetcasestudy2/train.tsv'\n",
    "test_file_path = '../input/datasetcasestudy2/test.tsv'\n",
    "\n",
    "try:\n",
    "    train_data = pd.read_csv(train_file_path, sep='\\t')\n",
    "    test_data = pd.read_csv(test_file_path, sep='\\t')\n",
    "except FileNotFoundError as e:\n",
    "    print(\"Check if your file paths are correct!\")\n",
    "    raise e\n",
    "\n",
    "print(f\"Number of training samples: {len(train_data)}\")\n",
    "print(f\"Number of testing samples: {len(test_data)}\")\n",
    "\n",
    "max_vocab_size = 10000  \n",
    "max_length = 100        \n",
    "\n",
    "def tokenize(text):\n",
    "    return text.split()  \n",
    "\n",
    "from collections import Counter\n",
    "vocab_counter = Counter()\n",
    "for sentence in train_data['sentence']:\n",
    "    vocab_counter.update(tokenize(sentence))\n",
    "\n",
    "vocab = {word: idx + 1 for idx, (word, _) in enumerate(vocab_counter.most_common(max_vocab_size - 1))}\n",
    "vocab[\"<PAD>\"] = 0\n",
    "vocab[\"<OOV>\"] = len(vocab)  \n",
    "\n",
    "def encode_sentence(sentence, vocab, max_length):\n",
    "    tokens = [vocab.get(word, vocab[\"<OOV>\"]) for word in tokenize(sentence)]\n",
    "    if len(tokens) < max_length:\n",
    "        tokens += [vocab[\"<PAD>\"]] * (max_length - len(tokens))\n",
    "    return tokens[:max_length]\n",
    "\n",
    "X_train = np.array([encode_sentence(s, vocab, max_length) for s in train_data['sentence']])\n",
    "X_test = np.array([encode_sentence(s, vocab, max_length) for s in test_data['sentence']])\n",
    "\n",
    "label_encoder = LabelEncoder()\n",
    "y_train = label_encoder.fit_transform(train_data['label'])\n",
    "y_test = label_encoder.transform(test_data['label'])\n",
    "num_classes = len(label_encoder.classes_)\n",
    "\n",
    "class TextDataset(Dataset):\n",
    "    def __init__(self, sentences, labels):\n",
    "        self.sentences = torch.tensor(sentences, dtype=torch.long)\n",
    "        self.labels = torch.tensor(labels, dtype=torch.long)\n",
    "\n",
    "    def __len__(self):\n",
    "        return len(self.sentences)\n",
    "\n",
    "    def __getitem__(self, idx):\n",
    "        return self.sentences[idx], self.labels[idx]\n",
    "\n",
    "train_dataset = TextDataset(X_train, y_train)\n",
    "test_dataset = TextDataset(X_test, y_test)\n",
    "\n",
    "train_loader = DataLoader(train_dataset, batch_size=32, shuffle=True)\n",
    "test_loader = DataLoader(test_dataset, batch_size=32, shuffle=False)\n",
    "\n",
    "glove_file_path = '../input/datasetcasestudy2/glove.6B.100d.txt'\n",
    "embedding_dim = 100  \n",
    "embedding_matrix = np.zeros((len(vocab), embedding_dim), dtype=np.float32)\n",
    "\n",
    "try:\n",
    "    with open(glove_file_path, 'r', encoding='utf-8') as f:\n",
    "        for line in f:\n",
    "            values = line.split()\n",
    "            word = values[0]\n",
    "            vector = np.asarray(values[1:], dtype='float32')\n",
    "            idx = vocab.get(word)\n",
    "            if idx is not None:\n",
    "                embedding_matrix[idx] = vector\n",
    "except FileNotFoundError as e:\n",
    "    print(\"Check if your GloVe file path is correct!\")\n",
    "    raise e\n",
    "\n",
    "embedding_matrix = torch.tensor(embedding_matrix, dtype=torch.float)\n",
    "\n",
    "class LSTMClassifier(nn.Module):\n",
    "    def __init__(self, vocab_size, hidden_dim, num_classes,\n",
    "                 embedding_matrix=None, trainable_embedding=True):\n",
    "        super(LSTMClassifier, self).__init__()\n",
    "        fixed_embedding_dim = embedding_matrix.shape[1] \n",
    "\n",
    "        if embedding_matrix is not None:\n",
    "            self.embedding = nn.Embedding.from_pretrained(\n",
    "                embedding_matrix, freeze=not trainable_embedding\n",
    "            )\n",
    "        else:\n",
    "            self.embedding = nn.Embedding(vocab_size, fixed_embedding_dim)\n",
    "\n",
    "        self.lstm = nn.LSTM(fixed_embedding_dim, hidden_dim,\n",
    "                            num_layers=2, batch_first=True, dropout=0.3)\n",
    "        self.fc = nn.Linear(hidden_dim, num_classes)\n",
    "\n",
    "    def forward(self, x):\n",
    "        embeds = self.embedding(x)\n",
    "        lstm_out, _ = self.lstm(embeds)\n",
    "        hidden = lstm_out[:, -1, :]  \n",
    "        out = self.fc(hidden)\n",
    "        return out\n",
    "\n",
    "def train_model(config):\n",
    "  \n",
    "    model = LSTMClassifier(\n",
    "        vocab_size=len(vocab),\n",
    "        hidden_dim=config[\"hidden_dim\"],\n",
    "        num_classes=num_classes,\n",
    "        embedding_matrix=embedding_matrix,\n",
    "        trainable_embedding=config[\"trainable_embedding\"]\n",
    "    ).to(device)\n",
    "\n",
    "    criterion = nn.CrossEntropyLoss()\n",
    "    optimizer = optim.Adam(model.parameters(), lr=config[\"lr\"])\n",
    "    epochs = config[\"epochs\"]\n",
    "\n",
    "    for epoch in range(epochs):\n",
    "        # Training loop\n",
    "        model.train()\n",
    "        for sentences, labels in train_loader:\n",
    "            sentences, labels = sentences.to(device), labels.to(device)\n",
    "            optimizer.zero_grad()\n",
    "            outputs = model(sentences)\n",
    "            loss = criterion(outputs, labels)\n",
    "            loss.backward()\n",
    "            optimizer.step()\n",
    "\n",
    "        val_loss = 0\n",
    "        model.eval()\n",
    "        with torch.no_grad():\n",
    "            for sentences, labels in test_loader:\n",
    "                sentences, labels = sentences.to(device), labels.to(device)\n",
    "                outputs = model(sentences)\n",
    "                loss = criterion(outputs, labels)\n",
    "                val_loss += loss.item()\n",
    "\n",
    "        session.report({\"val_loss\": val_loss})\n",
    "\n",
    "search_space = {\n",
    "    \"hidden_dim\": tune.choice([32, 64, 128]),\n",
    "    \"lr\": tune.loguniform(1e-5, 1e-3),\n",
    "    \"trainable_embedding\": tune.choice([True, False]),\n",
    "    \"epochs\": 5  \n",
    "}\n",
    "\n",
    "analysis = tune.run(\n",
    "    train_model,\n",
    "    config=search_space,\n",
    "    metric=\"val_loss\",\n",
    "    mode=\"min\",\n",
    "    num_samples=2,           \n",
    "    search_alg=HyperOptSearch(),\n",
    "    resources_per_trial={\"cpu\": 1, \"gpu\": 0},\n",
    ")\n",
    "\n",
    "best_trial = analysis.get_best_trial(\"val_loss\", \"min\", \"last\")\n",
    "print(\"\\nBest Hyperparameters:\", best_trial.config)\n",
    "\n",
    "def train_and_evaluate(config):\n",
    "  \n",
    "    model = LSTMClassifier(\n",
    "        vocab_size=len(vocab),\n",
    "        hidden_dim=config[\"hidden_dim\"],\n",
    "        num_classes=num_classes,\n",
    "        embedding_matrix=embedding_matrix,\n",
    "        trainable_embedding=config[\"trainable_embedding\"]\n",
    "    ).to(device)\n",
    "\n",
    "    criterion = nn.CrossEntropyLoss()\n",
    "    optimizer = optim.Adam(model.parameters(), lr=config[\"lr\"])\n",
    "    epochs = config[\"epochs\"]\n",
    "\n",
    "    # Train loop\n",
    "    for epoch in range(epochs):\n",
    "        model.train()\n",
    "        for sentences, labels in train_loader:\n",
    "            sentences, labels = sentences.to(device), labels.to(device)\n",
    "            optimizer.zero_grad()\n",
    "            outputs = model(sentences)\n",
    "            loss = criterion(outputs, labels)\n",
    "            loss.backward()\n",
    "            optimizer.step()\n",
    "\n",
    "    model.eval()\n",
    "    correct = 0\n",
    "    total = 0\n",
    "    with torch.no_grad():\n",
    "        for sentences, labels in test_loader:\n",
    "            sentences, labels = sentences.to(device), labels.to(device)\n",
    "            outputs = model(sentences)\n",
    "            _, predicted = torch.max(outputs, 1)  # argmax\n",
    "            total += labels.size(0)\n",
    "            correct += (predicted == labels).sum().item()\n",
    "\n",
    "    accuracy = correct / total\n",
    "    return accuracy\n",
    "\n",
    "best_config = best_trial.config\n",
    "\n",
    "test_accuracy = train_and_evaluate(best_config)\n",
    "print(f\"\\nTest Accuracy with best hyperparams: {test_accuracy:.4f}\")\n"
   ]
  }
 ],
 "metadata": {
  "kaggle": {
   "accelerator": "nvidiaTeslaT4",
   "dataSources": [
    {
     "datasetId": 6368737,
     "sourceId": 10372504,
     "sourceType": "datasetVersion"
    }
   ],
   "dockerImageVersionId": 30823,
   "isGpuEnabled": true,
   "isInternetEnabled": true,
   "language": "python",
   "sourceType": "notebook"
  },
  "kernelspec": {
   "display_name": "Python 3",
   "language": "python",
   "name": "python3"
  },
  "language_info": {
   "codemirror_mode": {
    "name": "ipython",
    "version": 3
   },
   "file_extension": ".py",
   "mimetype": "text/x-python",
   "name": "python",
   "nbconvert_exporter": "python",
   "pygments_lexer": "ipython3",
   "version": "3.10.12"
  }
 },
 "nbformat": 4,
 "nbformat_minor": 4
}
